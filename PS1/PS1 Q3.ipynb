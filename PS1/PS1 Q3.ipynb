{
 "cells": [
  {
   "cell_type": "code",
   "execution_count": 66,
   "metadata": {},
   "outputs": [],
   "source": [
    "import numpy as np\n",
    "import pandas as pd\n",
    "from numpy.linalg import inv"
   ]
  },
  {
   "cell_type": "code",
   "execution_count": 116,
   "metadata": {},
   "outputs": [
    {
     "data": {
      "text/html": [
       "<div>\n",
       "<style scoped>\n",
       "    .dataframe tbody tr th:only-of-type {\n",
       "        vertical-align: middle;\n",
       "    }\n",
       "\n",
       "    .dataframe tbody tr th {\n",
       "        vertical-align: top;\n",
       "    }\n",
       "\n",
       "    .dataframe thead th {\n",
       "        text-align: right;\n",
       "    }\n",
       "</style>\n",
       "<table border=\"1\" class=\"dataframe\">\n",
       "  <thead>\n",
       "    <tr style=\"text-align: right;\">\n",
       "      <th></th>\n",
       "      <th>0</th>\n",
       "      <th>1</th>\n",
       "      <th>2</th>\n",
       "    </tr>\n",
       "  </thead>\n",
       "  <tbody>\n",
       "    <tr>\n",
       "      <td>0</td>\n",
       "      <td>532808.7</td>\n",
       "      <td>1</td>\n",
       "      <td>1995</td>\n",
       "    </tr>\n",
       "    <tr>\n",
       "      <td>1</td>\n",
       "      <td>536781.8</td>\n",
       "      <td>2</td>\n",
       "      <td>1995</td>\n",
       "    </tr>\n",
       "    <tr>\n",
       "      <td>2</td>\n",
       "      <td>537827.4</td>\n",
       "      <td>3</td>\n",
       "      <td>1995</td>\n",
       "    </tr>\n",
       "    <tr>\n",
       "      <td>3</td>\n",
       "      <td>537897.1</td>\n",
       "      <td>4</td>\n",
       "      <td>1995</td>\n",
       "    </tr>\n",
       "    <tr>\n",
       "      <td>4</td>\n",
       "      <td>533505.8</td>\n",
       "      <td>1</td>\n",
       "      <td>1996</td>\n",
       "    </tr>\n",
       "    <tr>\n",
       "      <td>...</td>\n",
       "      <td>...</td>\n",
       "      <td>...</td>\n",
       "      <td>...</td>\n",
       "    </tr>\n",
       "    <tr>\n",
       "      <td>98</td>\n",
       "      <td>745977.6</td>\n",
       "      <td>3</td>\n",
       "      <td>2019</td>\n",
       "    </tr>\n",
       "    <tr>\n",
       "      <td>99</td>\n",
       "      <td>745838.2</td>\n",
       "      <td>4</td>\n",
       "      <td>2019</td>\n",
       "    </tr>\n",
       "    <tr>\n",
       "      <td>100</td>\n",
       "      <td>731688.2</td>\n",
       "      <td>1</td>\n",
       "      <td>2020</td>\n",
       "    </tr>\n",
       "    <tr>\n",
       "      <td>101</td>\n",
       "      <td>660031.9</td>\n",
       "      <td>2</td>\n",
       "      <td>2020</td>\n",
       "    </tr>\n",
       "    <tr>\n",
       "      <td>102</td>\n",
       "      <td>716004.6</td>\n",
       "      <td>3</td>\n",
       "      <td>2020</td>\n",
       "    </tr>\n",
       "  </tbody>\n",
       "</table>\n",
       "<p>103 rows × 3 columns</p>\n",
       "</div>"
      ],
      "text/plain": [
       "            0  1     2\n",
       "0    532808.7  1  1995\n",
       "1    536781.8  2  1995\n",
       "2    537827.4  3  1995\n",
       "3    537897.1  4  1995\n",
       "4    533505.8  1  1996\n",
       "..        ... ..   ...\n",
       "98   745977.6  3  2019\n",
       "99   745838.2  4  2019\n",
       "100  731688.2  1  2020\n",
       "101  660031.9  2  2020\n",
       "102  716004.6  3  2020\n",
       "\n",
       "[103 rows x 3 columns]"
      ]
     },
     "execution_count": 116,
     "metadata": {},
     "output_type": "execute_result"
    }
   ],
   "source": [
    "# import data\n",
    "df = pd.read_csv('germany.csv',header=None)\n",
    "df"
   ]
  },
  {
   "cell_type": "code",
   "execution_count": 37,
   "metadata": {},
   "outputs": [],
   "source": [
    "# Define a function that will create a matrix K based on imported data\n",
    "\n",
    "def Kmatrix(df):\n",
    "    \"\"\"\n",
    "    Output: Returns the appropriate K matrix given imported dataframe\n",
    "    \n",
    "    Parameters\n",
    "    ----------\n",
    "    df is the dataframe you imported\n",
    "    \"\"\"    \n",
    "\n",
    "    # Create Matrix K, where K is T-2 by T matrix\n",
    "    K = np.zeros((len(df)-2,len(df)),dtype=int)\n",
    "\n",
    "    # Set first diagonal to 1:\n",
    "    for n in range(0,K.shape[0]):\n",
    "        for i in range(0,K.shape[1]):\n",
    "            if i==n:\n",
    "                K[n][i] = 1\n",
    "\n",
    "    # Set second diagonal to -2:\n",
    "    for n in range(0,K.shape[0]):\n",
    "        for i in range(0,K.shape[1]):\n",
    "            if i==n+1:\n",
    "                K[n][i] = -2\n",
    "\n",
    "    # Set third diagonal to 1:\n",
    "    for n in range(0,K.shape[0]):\n",
    "        for i in range(0,K.shape[1]):\n",
    "            if i==n+2:\n",
    "                K[n][i] = 1\n",
    "    \n",
    "    return K"
   ]
  },
  {
   "cell_type": "code",
   "execution_count": 64,
   "metadata": {},
   "outputs": [],
   "source": [
    "# Define a function that will create a matrix A based on imported data\n",
    "def Amatrix(df,L):\n",
    "    \"\"\"\n",
    "    Output: Returns the appropriate A matrix given imported dataframe\n",
    "    \n",
    "    Parameters\n",
    "    ----------\n",
    "    -df is the dataframe you imported\n",
    "    -L is the smoothing parameter lambda \n",
    "    \"\"\"    \n",
    "    #create T by T matrix I\n",
    "    I = np.zeros((len(df),len(df)),dtype=float)\n",
    "    \n",
    "    # Set first diagonal to 1:\n",
    "    for n in range(0,I.shape[0]):\n",
    "        for i in range(0,I.shape[1]):\n",
    "            if i==n:\n",
    "                I[n][i] = 1\n",
    "                \n",
    "    #create LK'K matrix:\n",
    "    Lmatrix = L * Kmatrix(df).transpose() @ Kmatrix(df)\n",
    "    \n",
    "    #create resulting A matrix:\n",
    "    A = I + Lmatrix\n",
    "    \n",
    "    return A "
   ]
  },
  {
   "cell_type": "code",
   "execution_count": 100,
   "metadata": {},
   "outputs": [],
   "source": [
    "# Create function that outputs dataframe of Y and Y_growth given input df and lambda parameter\n",
    "def Y_growth_df(df,L):\n",
    "    \"\"\"\n",
    "    Output: Returns the resulting dataframe of Y and Y_growth given input df and lambda parameter\n",
    "    \n",
    "    Parameters\n",
    "    ----------\n",
    "    -df is the dataframe you imported\n",
    "    -L is the smoothing parameter lambda \n",
    "    \"\"\"    \n",
    "    #Before we can calculate Y_g, we need to transform input dataframe into appropriate Y matrix\n",
    "    Y = df[0].to_numpy(dtype=float)\n",
    "    \n",
    "    # Y_g = inverse(A)*Y\n",
    "    Y_g =  inv(Amatrix(df,1600)) @ Y\n",
    "    \n",
    "    # Reattach Y_g to original dataframe\n",
    "    df_final = df\n",
    "    df_final['Y_growth'] = Y_g\n",
    "    df_final=df_final.rename(columns={0:'Y', 1:'Quarter',2:'Year'}) #rename columns\n",
    "    df_final=df_final[['Year','Quarter','Y','Y_growth']] #organize columns\n",
    "    \n",
    "    return df_final"
   ]
  },
  {
   "cell_type": "code",
   "execution_count": 121,
   "metadata": {},
   "outputs": [],
   "source": [
    "# Create the output results for Q3 parts c and d\n",
    "output = Y_growth_df(df,1600)\n",
    "output.to_csv('germany_result.csv',index=False)"
   ]
  },
  {
   "cell_type": "code",
   "execution_count": 124,
   "metadata": {},
   "outputs": [
    {
     "data": {
      "text/plain": [
       "<AxesSubplot:xlabel='Year', ylabel='Y'>"
      ]
     },
     "execution_count": 124,
     "metadata": {},
     "output_type": "execute_result"
    },
    {
     "data": {
      "image/png": "[encoded data removed]",
      "text/plain": [
       "<Figure size 432x288 with 1 Axes>"
      ]
     },
     "metadata": {
      "needs_background": "light"
     },
     "output_type": "display_data"
    }
   ],
   "source": [
    "#Let's plot Y_growth vs Y\n",
    "import seaborn as sns\n",
    "\n",
    "sns.lineplot(output['Year'],output['Y_growth'],ci=None)\n",
    "sns.lineplot(output['Year'],output['Y'],ci=None)"
   ]
  },
  {
   "cell_type": "code",
   "execution_count": null,
   "metadata": {},
   "outputs": [],
   "source": []
  }
 ],
 "metadata": {
  "kernelspec": {
   "display_name": "Python 3",
   "language": "python",
   "name": "python3"
  },
  "language_info": {
   "codemirror_mode": {
    "name": "ipython",
    "version": 3
   },
   "file_extension": ".py",
   "mimetype": "text/x-python",
   "name": "python",
   "nbconvert_exporter": "python",
   "pygments_lexer": "ipython3",
   "version": "3.7.4"
  }
 },
 "nbformat": 4,
 "nbformat_minor": 2
}
